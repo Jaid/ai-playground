{
 "cells": [
  {
   "cell_type": "code",
   "execution_count": null,
   "metadata": {},
   "outputs": [],
   "source": [
    "import torch\n",
    "from transformers import AutoModelForSpeechSeq2Seq, AutoProcessor, pipeline\n",
    "from pathlib import Path"
   ]
  },
  {
   "cell_type": "code",
   "execution_count": null,
   "metadata": {},
   "outputs": [],
   "source": [
    "whisperFolder = Path('D:/git/ai-playground/out/whisper')\n",
    "isCuda = torch.cuda.is_available() #@param {type:\"boolean\"}\n",
    "device = isCuda and 'cuda' or 'cpu'\n",
    "torchDtype = isCuda and torch.float16 or torch.float32\n",
    "modelId = 'openai/whisper-large-v3'\n",
    "modelLoadingOptions = {\n",
    "  'torch_dtype': torchDtype,\n",
    "  'low_cpu_mem_usage': True,\n",
    "  'use_safetensors': True,\n",
    "  'attn_implementation': 'eager'\n",
    "}"
   ]
  },
  {
   "cell_type": "code",
   "execution_count": null,
   "metadata": {},
   "outputs": [],
   "source": [
    "\n",
    "model = AutoModelForSpeechSeq2Seq.from_pretrained(\n",
    "  modelId,\n",
    "  **modelLoadingOptions\n",
    ")"
   ]
  },
  {
   "cell_type": "code",
   "execution_count": null,
   "metadata": {},
   "outputs": [],
   "source": [
    "model.to(device)"
   ]
  },
  {
   "cell_type": "code",
   "execution_count": null,
   "metadata": {},
   "outputs": [],
   "source": [
    "processor = AutoProcessor.from_pretrained(modelId)"
   ]
  },
  {
   "cell_type": "code",
   "execution_count": null,
   "metadata": {},
   "outputs": [],
   "source": [
    "pipe = pipeline(\n",
    "  'automatic-speech-recognition',\n",
    "  model=model,\n",
    "  tokenizer=processor.tokenizer,\n",
    "  feature_extractor=processor.feature_extractor,\n",
    "  max_new_tokens=128,\n",
    "  chunk_length_s=30,\n",
    "  batch_size=1,\n",
    "  return_timestamps='word',\n",
    "  torch_dtype=torchDtype,\n",
    "  device=device,\n",
    ")"
   ]
  },
  {
   "cell_type": "code",
   "execution_count": null,
   "metadata": {},
   "outputs": [],
   "source": [
    "result = pipe(\n",
    "  'D:/git/ai-playground/out/whisper/input.flac',\n",
    ")"
   ]
  }
 ],
 "metadata": {
  "kernelspec": {
   "display_name": ".venv",
   "language": "python",
   "name": "python3"
  },
  "language_info": {
   "codemirror_mode": {
    "name": "ipython",
    "version": 3
   },
   "file_extension": ".py",
   "mimetype": "text/x-python",
   "name": "python",
   "nbconvert_exporter": "python",
   "pygments_lexer": "ipython3",
   "version": "3.11.3"
  }
 },
 "nbformat": 4,
 "nbformat_minor": 2
}
